{
 "cells": [
  {
   "attachments": {},
   "cell_type": "markdown",
   "metadata": {},
   "source": [
    "## Global Commodity Trade ETL"
   ]
  },
  {
   "cell_type": "code",
   "execution_count": 1,
   "metadata": {},
   "outputs": [],
   "source": [
    "import pandas as pd\n",
    "from sqlalchemy import create_engine, text"
   ]
  },
  {
   "attachments": {},
   "cell_type": "markdown",
   "metadata": {},
   "source": [
    "### Extraction"
   ]
  },
  {
   "cell_type": "code",
   "execution_count": 2,
   "metadata": {},
   "outputs": [],
   "source": [
    "# Extract the data from the trades table in the etl_python database\n",
    "# Same values as the docker-compose file\n",
    "HOST = \"localhost\"\n",
    "PORT = 5433\n",
    "DATABASE = \"etl_python\"\n",
    "USER = \"my_user\"\n",
    "PASSWORD = \"my_password\""
   ]
  },
  {
   "cell_type": "code",
   "execution_count": 3,
   "metadata": {},
   "outputs": [],
   "source": [
    "# Connect to the database\n",
    "engine = create_engine(f'postgresql+psycopg2://{USER}:{PASSWORD}@{HOST}:{PORT}/{DATABASE}')"
   ]
  },
  {
   "cell_type": "code",
   "execution_count": 4,
   "metadata": {},
   "outputs": [],
   "source": [
    "# By using a transaction, ensures that the connection is closed automatically \n",
    "# when the block is exited, even if an exception is raised.\n",
    "with engine.begin() as conn:\n",
    "    query = text(\"SELECT * FROM trades\")\n",
    "    # Batch loading the data (Number of rows)\n",
    "    chunk_size = 1000\n",
    "    # Create a pandas generator to read the data in batches\n",
    "    trades_generator = pd.read_sql_query(query, conn, chunksize=chunk_size)\n",
    "    # Concatenate batch DataFrames into a single one\n",
    "    df_trades = pd.concat(trades_generator)"
   ]
  },
  {
   "attachments": {},
   "cell_type": "markdown",
   "metadata": {},
   "source": [
    "##### Trades "
   ]
  },
  {
   "cell_type": "code",
   "execution_count": 5,
   "metadata": {},
   "outputs": [
    {
     "data": {
      "text/html": [
       "<div>\n",
       "<style scoped>\n",
       "    .dataframe tbody tr th:only-of-type {\n",
       "        vertical-align: middle;\n",
       "    }\n",
       "\n",
       "    .dataframe tbody tr th {\n",
       "        vertical-align: top;\n",
       "    }\n",
       "\n",
       "    .dataframe thead th {\n",
       "        text-align: right;\n",
       "    }\n",
       "</style>\n",
       "<table border=\"1\" class=\"dataframe\">\n",
       "  <thead>\n",
       "    <tr style=\"text-align: right;\">\n",
       "      <th></th>\n",
       "      <th>country_code</th>\n",
       "      <th>year</th>\n",
       "      <th>comm_code</th>\n",
       "      <th>flow</th>\n",
       "      <th>trade_usd</th>\n",
       "      <th>kg</th>\n",
       "      <th>quantity</th>\n",
       "      <th>quantity_name</th>\n",
       "    </tr>\n",
       "  </thead>\n",
       "  <tbody>\n",
       "    <tr>\n",
       "      <th>0</th>\n",
       "      <td>SYC</td>\n",
       "      <td>1998</td>\n",
       "      <td>890200</td>\n",
       "      <td>Import</td>\n",
       "      <td>1431426.0</td>\n",
       "      <td>0.0</td>\n",
       "      <td>23000.0</td>\n",
       "      <td>Number of items</td>\n",
       "    </tr>\n",
       "    <tr>\n",
       "      <th>1</th>\n",
       "      <td>SYC</td>\n",
       "      <td>1998</td>\n",
       "      <td>890310</td>\n",
       "      <td>Import</td>\n",
       "      <td>31406.0</td>\n",
       "      <td>0.0</td>\n",
       "      <td>2545.0</td>\n",
       "      <td>Number of items</td>\n",
       "    </tr>\n",
       "    <tr>\n",
       "      <th>2</th>\n",
       "      <td>SYC</td>\n",
       "      <td>1998</td>\n",
       "      <td>890310</td>\n",
       "      <td>Export</td>\n",
       "      <td>950.0</td>\n",
       "      <td>0.0</td>\n",
       "      <td>300.0</td>\n",
       "      <td>Number of items</td>\n",
       "    </tr>\n",
       "  </tbody>\n",
       "</table>\n",
       "</div>"
      ],
      "text/plain": [
       "  country_code  year  comm_code    flow  trade_usd   kg  quantity  \\\n",
       "0          SYC  1998     890200  Import  1431426.0  0.0   23000.0   \n",
       "1          SYC  1998     890310  Import    31406.0  0.0    2545.0   \n",
       "2          SYC  1998     890310  Export      950.0  0.0     300.0   \n",
       "\n",
       "     quantity_name  \n",
       "0  Number of items  \n",
       "1  Number of items  \n",
       "2  Number of items  "
      ]
     },
     "execution_count": 5,
     "metadata": {},
     "output_type": "execute_result"
    }
   ],
   "source": [
    "df_trades.head(3)"
   ]
  },
  {
   "attachments": {},
   "cell_type": "markdown",
   "metadata": {},
   "source": [
    "##### Countries"
   ]
  },
  {
   "cell_type": "code",
   "execution_count": 22,
   "metadata": {},
   "outputs": [
    {
     "data": {
      "text/html": [
       "<div>\n",
       "<style scoped>\n",
       "    .dataframe tbody tr th:only-of-type {\n",
       "        vertical-align: middle;\n",
       "    }\n",
       "\n",
       "    .dataframe tbody tr th {\n",
       "        vertical-align: top;\n",
       "    }\n",
       "\n",
       "    .dataframe thead th {\n",
       "        text-align: right;\n",
       "    }\n",
       "</style>\n",
       "<table border=\"1\" class=\"dataframe\">\n",
       "  <thead>\n",
       "    <tr style=\"text-align: right;\">\n",
       "      <th></th>\n",
       "      <th>country</th>\n",
       "      <th>images_file</th>\n",
       "      <th>image_url</th>\n",
       "      <th>alpha-2</th>\n",
       "      <th>alpha-3</th>\n",
       "      <th>country-code</th>\n",
       "      <th>iso_3166-2</th>\n",
       "      <th>region</th>\n",
       "      <th>sub-region</th>\n",
       "      <th>intermediate-region</th>\n",
       "      <th>region-code</th>\n",
       "      <th>sub-region-code</th>\n",
       "      <th>intermediate-region-code</th>\n",
       "    </tr>\n",
       "  </thead>\n",
       "  <tbody>\n",
       "    <tr>\n",
       "      <th>0</th>\n",
       "      <td>Afghanistan</td>\n",
       "      <td>Flag_of_Afghanistan.svg</td>\n",
       "      <td>https://upload.wikimedia.org/wikipedia/commons...</td>\n",
       "      <td>AF</td>\n",
       "      <td>AFG</td>\n",
       "      <td>4.0</td>\n",
       "      <td>ISO 3166-2:AF</td>\n",
       "      <td>Asia</td>\n",
       "      <td>Southern Asia</td>\n",
       "      <td>None</td>\n",
       "      <td>142.0</td>\n",
       "      <td>34.0</td>\n",
       "      <td>NaN</td>\n",
       "    </tr>\n",
       "    <tr>\n",
       "      <th>1</th>\n",
       "      <td>Albania</td>\n",
       "      <td>Flag_of_Albania.svg</td>\n",
       "      <td>https://upload.wikimedia.org/wikipedia/commons...</td>\n",
       "      <td>AL</td>\n",
       "      <td>ALB</td>\n",
       "      <td>8.0</td>\n",
       "      <td>ISO 3166-2:AL</td>\n",
       "      <td>Europe</td>\n",
       "      <td>Southern Europe</td>\n",
       "      <td>None</td>\n",
       "      <td>150.0</td>\n",
       "      <td>39.0</td>\n",
       "      <td>NaN</td>\n",
       "    </tr>\n",
       "    <tr>\n",
       "      <th>2</th>\n",
       "      <td>Algeria</td>\n",
       "      <td>Flag_of_Algeria.svg</td>\n",
       "      <td>https://upload.wikimedia.org/wikipedia/commons...</td>\n",
       "      <td>DZ</td>\n",
       "      <td>DZA</td>\n",
       "      <td>12.0</td>\n",
       "      <td>ISO 3166-2:DZ</td>\n",
       "      <td>Africa</td>\n",
       "      <td>Northern Africa</td>\n",
       "      <td>None</td>\n",
       "      <td>2.0</td>\n",
       "      <td>15.0</td>\n",
       "      <td>NaN</td>\n",
       "    </tr>\n",
       "  </tbody>\n",
       "</table>\n",
       "</div>"
      ],
      "text/plain": [
       "       country              images_file  \\\n",
       "0  Afghanistan  Flag_of_Afghanistan.svg   \n",
       "1      Albania      Flag_of_Albania.svg   \n",
       "2      Algeria      Flag_of_Algeria.svg   \n",
       "\n",
       "                                           image_url alpha-2 alpha-3  \\\n",
       "0  https://upload.wikimedia.org/wikipedia/commons...      AF     AFG   \n",
       "1  https://upload.wikimedia.org/wikipedia/commons...      AL     ALB   \n",
       "2  https://upload.wikimedia.org/wikipedia/commons...      DZ     DZA   \n",
       "\n",
       "   country-code     iso_3166-2  region       sub-region intermediate-region  \\\n",
       "0           4.0  ISO 3166-2:AF    Asia    Southern Asia                None   \n",
       "1           8.0  ISO 3166-2:AL  Europe  Southern Europe                None   \n",
       "2          12.0  ISO 3166-2:DZ  Africa  Northern Africa                None   \n",
       "\n",
       "   region-code  sub-region-code  intermediate-region-code  \n",
       "0        142.0             34.0                       NaN  \n",
       "1        150.0             39.0                       NaN  \n",
       "2          2.0             15.0                       NaN  "
      ]
     },
     "execution_count": 22,
     "metadata": {},
     "output_type": "execute_result"
    }
   ],
   "source": [
    "# Read the JSON file with the countries data\n",
    "df_countries = pd.read_json('./sources/country_data.json')\n",
    "df_countries.head(3)"
   ]
  },
  {
   "attachments": {},
   "cell_type": "markdown",
   "metadata": {},
   "source": [
    "##### Product codes "
   ]
  },
  {
   "cell_type": "code",
   "execution_count": 14,
   "metadata": {},
   "outputs": [
    {
     "data": {
      "text/html": [
       "<div>\n",
       "<style scoped>\n",
       "    .dataframe tbody tr th:only-of-type {\n",
       "        vertical-align: middle;\n",
       "    }\n",
       "\n",
       "    .dataframe tbody tr th {\n",
       "        vertical-align: top;\n",
       "    }\n",
       "\n",
       "    .dataframe thead th {\n",
       "        text-align: right;\n",
       "    }\n",
       "</style>\n",
       "<table border=\"1\" class=\"dataframe\">\n",
       "  <thead>\n",
       "    <tr style=\"text-align: right;\">\n",
       "      <th></th>\n",
       "      <th>Order</th>\n",
       "      <th>Level</th>\n",
       "      <th>Code</th>\n",
       "      <th>Parent</th>\n",
       "      <th>Code_comm</th>\n",
       "      <th>Parent.1</th>\n",
       "      <th>Description_complex</th>\n",
       "      <th>Description</th>\n",
       "    </tr>\n",
       "  </thead>\n",
       "  <tbody>\n",
       "    <tr>\n",
       "      <th>0</th>\n",
       "      <td>1654555</td>\n",
       "      <td>1</td>\n",
       "      <td>0</td>\n",
       "      <td>NaN</td>\n",
       "      <td>NaN</td>\n",
       "      <td>NaN</td>\n",
       "      <td>This classification has been uploaded in RAMON...</td>\n",
       "      <td>This classification has been uploaded in RAMON...</td>\n",
       "    </tr>\n",
       "    <tr>\n",
       "      <th>1</th>\n",
       "      <td>1654556</td>\n",
       "      <td>1</td>\n",
       "      <td>10011000090</td>\n",
       "      <td>NaN</td>\n",
       "      <td>I</td>\n",
       "      <td>NaN</td>\n",
       "      <td>SECTION I - LIVE ANIMALS; ANIMAL PRODUCTS</td>\n",
       "      <td>LIVE ANIMALS; ANIMAL PRODUCTS</td>\n",
       "    </tr>\n",
       "    <tr>\n",
       "      <th>2</th>\n",
       "      <td>1654557</td>\n",
       "      <td>2</td>\n",
       "      <td>10021000090</td>\n",
       "      <td>1.001100e+10</td>\n",
       "      <td>1</td>\n",
       "      <td>I</td>\n",
       "      <td>CHAPTER 1 - LIVE ANIMALS</td>\n",
       "      <td>LIVE ANIMALS</td>\n",
       "    </tr>\n",
       "  </tbody>\n",
       "</table>\n",
       "</div>"
      ],
      "text/plain": [
       "     Order  Level         Code        Parent Code_comm Parent.1  \\\n",
       "0  1654555      1            0           NaN       NaN      NaN   \n",
       "1  1654556      1  10011000090           NaN         I      NaN   \n",
       "2  1654557      2  10021000090  1.001100e+10         1        I   \n",
       "\n",
       "                                 Description_complex  \\\n",
       "0  This classification has been uploaded in RAMON...   \n",
       "1          SECTION I - LIVE ANIMALS; ANIMAL PRODUCTS   \n",
       "2                           CHAPTER 1 - LIVE ANIMALS   \n",
       "\n",
       "                                         Description  \n",
       "0  This classification has been uploaded in RAMON...  \n",
       "1                      LIVE ANIMALS; ANIMAL PRODUCTS  \n",
       "2                                       LIVE ANIMALS  "
      ]
     },
     "execution_count": 14,
     "metadata": {},
     "output_type": "execute_result"
    }
   ],
   "source": [
    "# Read the CSV file with the products codes\n",
    "df_product_codes = pd.read_csv('./sources/hs_codes.csv')\n",
    "df_product_codes.head(3)"
   ]
  },
  {
   "cell_type": "code",
   "execution_count": 9,
   "metadata": {},
   "outputs": [
    {
     "data": {
      "text/html": [
       "<div>\n",
       "<style scoped>\n",
       "    .dataframe tbody tr th:only-of-type {\n",
       "        vertical-align: middle;\n",
       "    }\n",
       "\n",
       "    .dataframe tbody tr th {\n",
       "        vertical-align: top;\n",
       "    }\n",
       "\n",
       "    .dataframe thead th {\n",
       "        text-align: right;\n",
       "    }\n",
       "</style>\n",
       "<table border=\"1\" class=\"dataframe\">\n",
       "  <thead>\n",
       "    <tr style=\"text-align: right;\">\n",
       "      <th></th>\n",
       "      <th>Order</th>\n",
       "      <th>Level</th>\n",
       "      <th>Code</th>\n",
       "      <th>Parent</th>\n",
       "      <th>Code_comm</th>\n",
       "      <th>Parent.1</th>\n",
       "      <th>Description_complex</th>\n",
       "      <th>Description</th>\n",
       "    </tr>\n",
       "  </thead>\n",
       "  <tbody>\n",
       "    <tr>\n",
       "      <th>2</th>\n",
       "      <td>1654557</td>\n",
       "      <td>2</td>\n",
       "      <td>10021000090</td>\n",
       "      <td>1.001100e+10</td>\n",
       "      <td>1</td>\n",
       "      <td>I</td>\n",
       "      <td>CHAPTER 1 - LIVE ANIMALS</td>\n",
       "      <td>LIVE ANIMALS</td>\n",
       "    </tr>\n",
       "    <tr>\n",
       "      <th>52</th>\n",
       "      <td>1654607</td>\n",
       "      <td>2</td>\n",
       "      <td>20021000090</td>\n",
       "      <td>1.001100e+10</td>\n",
       "      <td>2</td>\n",
       "      <td>I</td>\n",
       "      <td>CHAPTER 2 - MEAT AND EDIBLE MEAT OFFAL</td>\n",
       "      <td>MEAT AND EDIBLE MEAT OFFAL</td>\n",
       "    </tr>\n",
       "    <tr>\n",
       "      <th>140</th>\n",
       "      <td>1654695</td>\n",
       "      <td>2</td>\n",
       "      <td>30021000090</td>\n",
       "      <td>1.001100e+10</td>\n",
       "      <td>3</td>\n",
       "      <td>I</td>\n",
       "      <td>CHAPTER 3 - FISH AND CRUSTACEANS, MOLLUSCS AND...</td>\n",
       "      <td>FISH AND CRUSTACEANS, MOLLUSCS AND OTHER AQUAT...</td>\n",
       "    </tr>\n",
       "  </tbody>\n",
       "</table>\n",
       "</div>"
      ],
      "text/plain": [
       "       Order  Level         Code        Parent Code_comm Parent.1  \\\n",
       "2    1654557      2  10021000090  1.001100e+10         1        I   \n",
       "52   1654607      2  20021000090  1.001100e+10         2        I   \n",
       "140  1654695      2  30021000090  1.001100e+10         3        I   \n",
       "\n",
       "                                   Description_complex  \\\n",
       "2                             CHAPTER 1 - LIVE ANIMALS   \n",
       "52              CHAPTER 2 - MEAT AND EDIBLE MEAT OFFAL   \n",
       "140  CHAPTER 3 - FISH AND CRUSTACEANS, MOLLUSCS AND...   \n",
       "\n",
       "                                           Description  \n",
       "2                                         LIVE ANIMALS  \n",
       "52                          MEAT AND EDIBLE MEAT OFFAL  \n",
       "140  FISH AND CRUSTACEANS, MOLLUSCS AND OTHER AQUAT...  "
      ]
     },
     "execution_count": 9,
     "metadata": {},
     "output_type": "execute_result"
    }
   ],
   "source": [
    "# All product codes with Level == 2\n",
    "df_parents = df_product_codes[df_product_codes['Level']==2].copy()\n",
    "df_parents.head(3)"
   ]
  },
  {
   "attachments": {},
   "cell_type": "markdown",
   "metadata": {},
   "source": [
    "### Transformation"
   ]
  },
  {
   "attachments": {},
   "cell_type": "markdown",
   "metadata": {},
   "source": [
    "##### Clean product codes"
   ]
  },
  {
   "cell_type": "code",
   "execution_count": 15,
   "metadata": {},
   "outputs": [
    {
     "data": {
      "text/html": [
       "<div>\n",
       "<style scoped>\n",
       "    .dataframe tbody tr th:only-of-type {\n",
       "        vertical-align: middle;\n",
       "    }\n",
       "\n",
       "    .dataframe tbody tr th {\n",
       "        vertical-align: top;\n",
       "    }\n",
       "\n",
       "    .dataframe thead th {\n",
       "        text-align: right;\n",
       "    }\n",
       "</style>\n",
       "<table border=\"1\" class=\"dataframe\">\n",
       "  <thead>\n",
       "    <tr style=\"text-align: right;\">\n",
       "      <th></th>\n",
       "      <th>Order</th>\n",
       "      <th>Level</th>\n",
       "      <th>Code</th>\n",
       "      <th>Parent</th>\n",
       "      <th>Code_comm</th>\n",
       "      <th>Parent.1</th>\n",
       "      <th>Description_complex</th>\n",
       "      <th>Description</th>\n",
       "    </tr>\n",
       "  </thead>\n",
       "  <tbody>\n",
       "    <tr>\n",
       "      <th>1</th>\n",
       "      <td>1654556</td>\n",
       "      <td>1</td>\n",
       "      <td>10011000090</td>\n",
       "      <td>NaN</td>\n",
       "      <td>I</td>\n",
       "      <td>NaN</td>\n",
       "      <td>SECTION I - LIVE ANIMALS; ANIMAL PRODUCTS</td>\n",
       "      <td>LIVE ANIMALS; ANIMAL PRODUCTS</td>\n",
       "    </tr>\n",
       "    <tr>\n",
       "      <th>2</th>\n",
       "      <td>1654557</td>\n",
       "      <td>2</td>\n",
       "      <td>10021000090</td>\n",
       "      <td>1.001100e+10</td>\n",
       "      <td>1</td>\n",
       "      <td>I</td>\n",
       "      <td>CHAPTER 1 - LIVE ANIMALS</td>\n",
       "      <td>LIVE ANIMALS</td>\n",
       "    </tr>\n",
       "    <tr>\n",
       "      <th>3</th>\n",
       "      <td>1654558</td>\n",
       "      <td>3</td>\n",
       "      <td>10100000080</td>\n",
       "      <td>1.002100e+10</td>\n",
       "      <td>1.01</td>\n",
       "      <td>1</td>\n",
       "      <td>Live horses, asses, mules and hinnies</td>\n",
       "      <td>Live horses, asses, mules and hinnies</td>\n",
       "    </tr>\n",
       "  </tbody>\n",
       "</table>\n",
       "</div>"
      ],
      "text/plain": [
       "     Order  Level         Code        Parent Code_comm Parent.1  \\\n",
       "1  1654556      1  10011000090           NaN         I      NaN   \n",
       "2  1654557      2  10021000090  1.001100e+10         1        I   \n",
       "3  1654558      3  10100000080  1.002100e+10      1.01        1   \n",
       "\n",
       "                         Description_complex  \\\n",
       "1  SECTION I - LIVE ANIMALS; ANIMAL PRODUCTS   \n",
       "2                   CHAPTER 1 - LIVE ANIMALS   \n",
       "3      Live horses, asses, mules and hinnies   \n",
       "\n",
       "                             Description  \n",
       "1          LIVE ANIMALS; ANIMAL PRODUCTS  \n",
       "2                           LIVE ANIMALS  \n",
       "3  Live horses, asses, mules and hinnies  "
      ]
     },
     "execution_count": 15,
     "metadata": {},
     "output_type": "execute_result"
    }
   ],
   "source": [
    "# Only include the rows with a non-null value in the Code_comm column.\n",
    "df_product_codes = df_product_codes[df_product_codes['Code_comm'].notnull()]\n",
    "df_product_codes.head(3)"
   ]
  },
  {
   "cell_type": "code",
   "execution_count": 16,
   "metadata": {},
   "outputs": [],
   "source": [
    "def get_clean_code(product_code):\n",
    "    \"\"\"\n",
    "    The first 6 digits of the Code column in df_product_codes will later \n",
    "    allow us to match with trades in df_trades.\n",
    "\n",
    "    The rows with a 1-digit Code_comm have an 11-digit Code column, \n",
    "    while the rest have a 12-digit Code column.\n",
    "    \n",
    "    Return: tuple(clean_code, parent_description)\n",
    "    \"\"\"\n",
    "    \n",
    "    product_code = str(product_code)\n",
    "\n",
    "    # Define a dictionary to map code length to slice indices\n",
    "    slice_indices = {11: (5, 1), 12: (6, 2)}\n",
    "\n",
    "    # Get the appropriate slice indices based on the length of the code\n",
    "    clean_product_code_slice_index, parent_code_slice_index = slice_indices[len(product_code)]\n",
    "    \n",
    "    # Slice the code to get the clean code and parent code\n",
    "    clean_code = product_code[:clean_product_code_slice_index]\n",
    "    parent_code = product_code[:parent_code_slice_index]\n",
    "\n",
    "    try:\n",
    "        # Only get the Description as a string\n",
    "        parent_description = df_parents[df_parents['Code_comm']==parent_code]['Description'].values[0]\n",
    "    except:\n",
    "        parent_description = None\n",
    "    return (clean_code, parent_description)"
   ]
  },
  {
   "cell_type": "code",
   "execution_count": 17,
   "metadata": {},
   "outputs": [],
   "source": [
    "# Apply to each row the get_clean_code function\n",
    "df_product_codes[['clean_code','parent_description']] = df_product_codes.apply(lambda x: get_clean_code(x['Code']), axis=1, result_type='expand')"
   ]
  },
  {
   "cell_type": "code",
   "execution_count": 18,
   "metadata": {},
   "outputs": [],
   "source": [
    "# Only includes the rows with a non-null value in the clean_code column\n",
    "# Then, it selects only three columns\n",
    "df_product_codes = df_product_codes[df_product_codes['clean_code'].notnull()][['clean_code','Description','parent_description']]"
   ]
  },
  {
   "cell_type": "code",
   "execution_count": 19,
   "metadata": {},
   "outputs": [],
   "source": [
    "# Create a unique identifier column\n",
    "df_product_codes['id_code'] = df_product_codes.index"
   ]
  },
  {
   "cell_type": "code",
   "execution_count": 20,
   "metadata": {},
   "outputs": [
    {
     "data": {
      "text/html": [
       "<div>\n",
       "<style scoped>\n",
       "    .dataframe tbody tr th:only-of-type {\n",
       "        vertical-align: middle;\n",
       "    }\n",
       "\n",
       "    .dataframe tbody tr th {\n",
       "        vertical-align: top;\n",
       "    }\n",
       "\n",
       "    .dataframe thead th {\n",
       "        text-align: right;\n",
       "    }\n",
       "</style>\n",
       "<table border=\"1\" class=\"dataframe\">\n",
       "  <thead>\n",
       "    <tr style=\"text-align: right;\">\n",
       "      <th></th>\n",
       "      <th>clean_code</th>\n",
       "      <th>Description</th>\n",
       "      <th>parent_description</th>\n",
       "      <th>id_code</th>\n",
       "    </tr>\n",
       "  </thead>\n",
       "  <tbody>\n",
       "    <tr>\n",
       "      <th>1</th>\n",
       "      <td>10011</td>\n",
       "      <td>LIVE ANIMALS; ANIMAL PRODUCTS</td>\n",
       "      <td>LIVE ANIMALS</td>\n",
       "      <td>1</td>\n",
       "    </tr>\n",
       "    <tr>\n",
       "      <th>2</th>\n",
       "      <td>10021</td>\n",
       "      <td>LIVE ANIMALS</td>\n",
       "      <td>LIVE ANIMALS</td>\n",
       "      <td>2</td>\n",
       "    </tr>\n",
       "    <tr>\n",
       "      <th>3</th>\n",
       "      <td>10100</td>\n",
       "      <td>Live horses, asses, mules and hinnies</td>\n",
       "      <td>LIVE ANIMALS</td>\n",
       "      <td>3</td>\n",
       "    </tr>\n",
       "  </tbody>\n",
       "</table>\n",
       "</div>"
      ],
      "text/plain": [
       "   clean_code                            Description parent_description  \\\n",
       "1       10011          LIVE ANIMALS; ANIMAL PRODUCTS       LIVE ANIMALS   \n",
       "2       10021                           LIVE ANIMALS       LIVE ANIMALS   \n",
       "3       10100  Live horses, asses, mules and hinnies       LIVE ANIMALS   \n",
       "\n",
       "   id_code  \n",
       "1        1  \n",
       "2        2  \n",
       "3        3  "
      ]
     },
     "execution_count": 20,
     "metadata": {},
     "output_type": "execute_result"
    }
   ],
   "source": [
    "# Convert clean_code column to int\n",
    "df_product_codes['clean_code'] = df_product_codes['clean_code'].astype('int64')\n",
    "df_product_codes.head(3)"
   ]
  },
  {
   "attachments": {},
   "cell_type": "markdown",
   "metadata": {},
   "source": [
    "##### Clean countries data"
   ]
  },
  {
   "cell_type": "code",
   "execution_count": 25,
   "metadata": {},
   "outputs": [],
   "source": [
    "# The alpha-3 columns in df_countries will later allow us \n",
    "# to match with trades in df_trades.\n",
    "df_countries = df_countries[['alpha-3', 'country', 'region', 'sub-region']]"
   ]
  },
  {
   "cell_type": "code",
   "execution_count": 26,
   "metadata": {},
   "outputs": [],
   "source": [
    "# Only includes the rows with a non-null value in the alpha-3 column\n",
    "df_countries = df_countries[df_countries['alpha-3'].notnull()]"
   ]
  },
  {
   "cell_type": "code",
   "execution_count": 27,
   "metadata": {},
   "outputs": [
    {
     "data": {
      "text/html": [
       "<div>\n",
       "<style scoped>\n",
       "    .dataframe tbody tr th:only-of-type {\n",
       "        vertical-align: middle;\n",
       "    }\n",
       "\n",
       "    .dataframe tbody tr th {\n",
       "        vertical-align: top;\n",
       "    }\n",
       "\n",
       "    .dataframe thead th {\n",
       "        text-align: right;\n",
       "    }\n",
       "</style>\n",
       "<table border=\"1\" class=\"dataframe\">\n",
       "  <thead>\n",
       "    <tr style=\"text-align: right;\">\n",
       "      <th></th>\n",
       "      <th>alpha-3</th>\n",
       "      <th>country</th>\n",
       "      <th>region</th>\n",
       "      <th>sub-region</th>\n",
       "      <th>id_country</th>\n",
       "    </tr>\n",
       "  </thead>\n",
       "  <tbody>\n",
       "    <tr>\n",
       "      <th>0</th>\n",
       "      <td>AFG</td>\n",
       "      <td>Afghanistan</td>\n",
       "      <td>Asia</td>\n",
       "      <td>Southern Asia</td>\n",
       "      <td>1</td>\n",
       "    </tr>\n",
       "    <tr>\n",
       "      <th>1</th>\n",
       "      <td>ALB</td>\n",
       "      <td>Albania</td>\n",
       "      <td>Europe</td>\n",
       "      <td>Southern Europe</td>\n",
       "      <td>2</td>\n",
       "    </tr>\n",
       "    <tr>\n",
       "      <th>2</th>\n",
       "      <td>DZA</td>\n",
       "      <td>Algeria</td>\n",
       "      <td>Africa</td>\n",
       "      <td>Northern Africa</td>\n",
       "      <td>3</td>\n",
       "    </tr>\n",
       "  </tbody>\n",
       "</table>\n",
       "</div>"
      ],
      "text/plain": [
       "  alpha-3      country  region       sub-region  id_country\n",
       "0     AFG  Afghanistan    Asia    Southern Asia           1\n",
       "1     ALB      Albania  Europe  Southern Europe           2\n",
       "2     DZA      Algeria  Africa  Northern Africa           3"
      ]
     },
     "execution_count": 27,
     "metadata": {},
     "output_type": "execute_result"
    }
   ],
   "source": [
    "# Create a unique identifier column \n",
    "# (+ 1, because the index of df_countries start at 0)\n",
    "df_countries['id_country'] = df_countries.index + 1\n",
    "df_countries.head(3)"
   ]
  },
  {
   "attachments": {},
   "cell_type": "markdown",
   "metadata": {},
   "source": [
    "##### Merge dataframes"
   ]
  },
  {
   "cell_type": "code",
   "execution_count": 28,
   "metadata": {},
   "outputs": [],
   "source": [
    "# Merge the df_trades Dataframe with the df_product_codes Dataframe\n",
    "df_trades_clean = df_trades.merge(df_product_codes[['clean_code', 'id_code']],\n",
    "                                  how='left',\n",
    "                                  left_on='comm_code',\n",
    "                                  right_on='clean_code')"
   ]
  },
  {
   "cell_type": "code",
   "execution_count": 29,
   "metadata": {},
   "outputs": [],
   "source": [
    "# Merge the df_trades_clean Dataframe with the df_countries Dataframe\n",
    "df_trades_clean = df_trades_clean.merge(df_countries[['alpha-3', 'id_country']],\n",
    "                                  how='left',\n",
    "                                  left_on='country_code',\n",
    "                                  right_on='alpha-3')"
   ]
  },
  {
   "cell_type": "code",
   "execution_count": 31,
   "metadata": {},
   "outputs": [],
   "source": [
    "def create_dimension(data, id_name):\n",
    "    \"\"\"\n",
    "    Creates a new pandas DataFrame with an id column and a values column,\n",
    "    based on the input data and id_name parameter.\n",
    "\n",
    "    Args:\n",
    "    - data: A pandas Series containing the values to be included in the 'values' column of the new DataFrame.\n",
    "    - id_name: A string representing the name of the id column in the new DataFrame.\n",
    "\n",
    "    Returns:\n",
    "    - A pandas DataFrame with two columns: the specified id column and a 'values' column containing the input data.\n",
    "    \"\"\"\n",
    "    \n",
    "    keys_list = [i+1 for i in range(len(data))] \n",
    "\n",
    "    return pd.DataFrame({id_name:keys_list, 'values': data})"
   ]
  },
  {
   "cell_type": "code",
   "execution_count": 33,
   "metadata": {},
   "outputs": [],
   "source": [
    "# Create the dimensions\n",
    "df_quantity = create_dimension(df_trades_clean['quantity_name'].unique(), 'id_quantity')\n",
    "df_flow = create_dimension(df_trades_clean['flow'].unique(), 'id_flow')\n",
    "df_year = create_dimension(df_trades_clean['year'].unique(), 'id_year')"
   ]
  },
  {
   "cell_type": "code",
   "execution_count": 34,
   "metadata": {},
   "outputs": [
    {
     "data": {
      "text/html": [
       "<div>\n",
       "<style scoped>\n",
       "    .dataframe tbody tr th:only-of-type {\n",
       "        vertical-align: middle;\n",
       "    }\n",
       "\n",
       "    .dataframe tbody tr th {\n",
       "        vertical-align: top;\n",
       "    }\n",
       "\n",
       "    .dataframe thead th {\n",
       "        text-align: right;\n",
       "    }\n",
       "</style>\n",
       "<table border=\"1\" class=\"dataframe\">\n",
       "  <thead>\n",
       "    <tr style=\"text-align: right;\">\n",
       "      <th></th>\n",
       "      <th>id_quantity</th>\n",
       "      <th>values</th>\n",
       "    </tr>\n",
       "  </thead>\n",
       "  <tbody>\n",
       "    <tr>\n",
       "      <th>0</th>\n",
       "      <td>1</td>\n",
       "      <td>Number of items</td>\n",
       "    </tr>\n",
       "    <tr>\n",
       "      <th>1</th>\n",
       "      <td>2</td>\n",
       "      <td>Weight in kilograms</td>\n",
       "    </tr>\n",
       "    <tr>\n",
       "      <th>2</th>\n",
       "      <td>3</td>\n",
       "      <td>No Quantity</td>\n",
       "    </tr>\n",
       "  </tbody>\n",
       "</table>\n",
       "</div>"
      ],
      "text/plain": [
       "   id_quantity               values\n",
       "0            1      Number of items\n",
       "1            2  Weight in kilograms\n",
       "2            3          No Quantity"
      ]
     },
     "execution_count": 34,
     "metadata": {},
     "output_type": "execute_result"
    }
   ],
   "source": [
    "df_quantity.head(3)"
   ]
  },
  {
   "cell_type": "code",
   "execution_count": 35,
   "metadata": {},
   "outputs": [
    {
     "data": {
      "text/html": [
       "<div>\n",
       "<style scoped>\n",
       "    .dataframe tbody tr th:only-of-type {\n",
       "        vertical-align: middle;\n",
       "    }\n",
       "\n",
       "    .dataframe tbody tr th {\n",
       "        vertical-align: top;\n",
       "    }\n",
       "\n",
       "    .dataframe thead th {\n",
       "        text-align: right;\n",
       "    }\n",
       "</style>\n",
       "<table border=\"1\" class=\"dataframe\">\n",
       "  <thead>\n",
       "    <tr style=\"text-align: right;\">\n",
       "      <th></th>\n",
       "      <th>id_flow</th>\n",
       "      <th>values</th>\n",
       "    </tr>\n",
       "  </thead>\n",
       "  <tbody>\n",
       "    <tr>\n",
       "      <th>0</th>\n",
       "      <td>1</td>\n",
       "      <td>Import</td>\n",
       "    </tr>\n",
       "    <tr>\n",
       "      <th>1</th>\n",
       "      <td>2</td>\n",
       "      <td>Export</td>\n",
       "    </tr>\n",
       "    <tr>\n",
       "      <th>2</th>\n",
       "      <td>3</td>\n",
       "      <td>Re-Export</td>\n",
       "    </tr>\n",
       "  </tbody>\n",
       "</table>\n",
       "</div>"
      ],
      "text/plain": [
       "   id_flow     values\n",
       "0        1     Import\n",
       "1        2     Export\n",
       "2        3  Re-Export"
      ]
     },
     "execution_count": 35,
     "metadata": {},
     "output_type": "execute_result"
    }
   ],
   "source": [
    "df_flow.head(3)"
   ]
  },
  {
   "cell_type": "code",
   "execution_count": 36,
   "metadata": {},
   "outputs": [
    {
     "data": {
      "text/html": [
       "<div>\n",
       "<style scoped>\n",
       "    .dataframe tbody tr th:only-of-type {\n",
       "        vertical-align: middle;\n",
       "    }\n",
       "\n",
       "    .dataframe tbody tr th {\n",
       "        vertical-align: top;\n",
       "    }\n",
       "\n",
       "    .dataframe thead th {\n",
       "        text-align: right;\n",
       "    }\n",
       "</style>\n",
       "<table border=\"1\" class=\"dataframe\">\n",
       "  <thead>\n",
       "    <tr style=\"text-align: right;\">\n",
       "      <th></th>\n",
       "      <th>id_year</th>\n",
       "      <th>values</th>\n",
       "    </tr>\n",
       "  </thead>\n",
       "  <tbody>\n",
       "    <tr>\n",
       "      <th>0</th>\n",
       "      <td>1</td>\n",
       "      <td>1998</td>\n",
       "    </tr>\n",
       "    <tr>\n",
       "      <th>1</th>\n",
       "      <td>2</td>\n",
       "      <td>1997</td>\n",
       "    </tr>\n",
       "    <tr>\n",
       "      <th>2</th>\n",
       "      <td>3</td>\n",
       "      <td>1996</td>\n",
       "    </tr>\n",
       "  </tbody>\n",
       "</table>\n",
       "</div>"
      ],
      "text/plain": [
       "   id_year  values\n",
       "0        1    1998\n",
       "1        2    1997\n",
       "2        3    1996"
      ]
     },
     "execution_count": 36,
     "metadata": {},
     "output_type": "execute_result"
    }
   ],
   "source": [
    "df_year.head(3)"
   ]
  },
  {
   "cell_type": "code",
   "execution_count": 37,
   "metadata": {},
   "outputs": [],
   "source": [
    "# Merges the dataframes containing the dimension ids with df_trades_clean to \n",
    "# populate it with the corresponding dimensional values.\n",
    "df_trades_clean = df_trades_clean.merge(df_quantity,\n",
    "                                  how='left',\n",
    "                                  left_on='quantity_name',\n",
    "                                  right_on='values')\n",
    "df_trades_clean = df_trades_clean.merge(df_flow,\n",
    "                                  how='left',\n",
    "                                  left_on='flow',\n",
    "                                  right_on='values')\n",
    "df_trades_clean = df_trades_clean.merge(df_year,\n",
    "                                  how='left',\n",
    "                                  left_on='year',\n",
    "                                  right_on='values')"
   ]
  },
  {
   "cell_type": "code",
   "execution_count": 38,
   "metadata": {},
   "outputs": [],
   "source": [
    "# Create a unique identifier column \n",
    "# (+ 1, because the index of df_trades_clean start at 0)\n",
    "df_trades_clean['id_trades'] = df_trades_clean.index + 1"
   ]
  },
  {
   "cell_type": "code",
   "execution_count": 39,
   "metadata": {},
   "outputs": [],
   "source": [
    "#Create df_trades_final, which will serve as our facts table. \n",
    "# This table will include unique identifiers, metrics such as trade_usd, kg, and quantity, \n",
    "# and corresponding ids to relate them with the dimensions.\n",
    "\n",
    "df_trades_final = df_trades_clean[['id_trades', 'trade_usd', 'kg', 'quantity', 'id_code',\n",
    "                                'id_country', 'id_quantity', 'id_flow', 'id_year']].copy()"
   ]
  },
  {
   "cell_type": "code",
   "execution_count": 53,
   "metadata": {},
   "outputs": [
    {
     "data": {
      "text/html": [
       "<div>\n",
       "<style scoped>\n",
       "    .dataframe tbody tr th:only-of-type {\n",
       "        vertical-align: middle;\n",
       "    }\n",
       "\n",
       "    .dataframe tbody tr th {\n",
       "        vertical-align: top;\n",
       "    }\n",
       "\n",
       "    .dataframe thead th {\n",
       "        text-align: right;\n",
       "    }\n",
       "</style>\n",
       "<table border=\"1\" class=\"dataframe\">\n",
       "  <thead>\n",
       "    <tr style=\"text-align: right;\">\n",
       "      <th></th>\n",
       "      <th>id_trades</th>\n",
       "      <th>trade_usd</th>\n",
       "      <th>kg</th>\n",
       "      <th>quantity</th>\n",
       "      <th>id_code</th>\n",
       "      <th>id_country</th>\n",
       "      <th>id_quantity</th>\n",
       "      <th>id_flow</th>\n",
       "      <th>id_year</th>\n",
       "    </tr>\n",
       "  </thead>\n",
       "  <tbody>\n",
       "    <tr>\n",
       "      <th>0</th>\n",
       "      <td>1</td>\n",
       "      <td>1431426.0</td>\n",
       "      <td>0.0</td>\n",
       "      <td>23000.0</td>\n",
       "      <td>6928</td>\n",
       "      <td>155</td>\n",
       "      <td>1</td>\n",
       "      <td>1</td>\n",
       "      <td>1</td>\n",
       "    </tr>\n",
       "    <tr>\n",
       "      <th>1</th>\n",
       "      <td>2</td>\n",
       "      <td>31406.0</td>\n",
       "      <td>0.0</td>\n",
       "      <td>2545.0</td>\n",
       "      <td>6930</td>\n",
       "      <td>155</td>\n",
       "      <td>1</td>\n",
       "      <td>1</td>\n",
       "      <td>1</td>\n",
       "    </tr>\n",
       "    <tr>\n",
       "      <th>2</th>\n",
       "      <td>3</td>\n",
       "      <td>950.0</td>\n",
       "      <td>0.0</td>\n",
       "      <td>300.0</td>\n",
       "      <td>6930</td>\n",
       "      <td>155</td>\n",
       "      <td>1</td>\n",
       "      <td>2</td>\n",
       "      <td>1</td>\n",
       "    </tr>\n",
       "    <tr>\n",
       "      <th>3</th>\n",
       "      <td>4</td>\n",
       "      <td>950.0</td>\n",
       "      <td>0.0</td>\n",
       "      <td>300.0</td>\n",
       "      <td>6930</td>\n",
       "      <td>155</td>\n",
       "      <td>1</td>\n",
       "      <td>3</td>\n",
       "      <td>1</td>\n",
       "    </tr>\n",
       "    <tr>\n",
       "      <th>4</th>\n",
       "      <td>5</td>\n",
       "      <td>18251.0</td>\n",
       "      <td>0.0</td>\n",
       "      <td>450.0</td>\n",
       "      <td>6932</td>\n",
       "      <td>155</td>\n",
       "      <td>1</td>\n",
       "      <td>1</td>\n",
       "      <td>1</td>\n",
       "    </tr>\n",
       "  </tbody>\n",
       "</table>\n",
       "</div>"
      ],
      "text/plain": [
       "   id_trades  trade_usd   kg  quantity  id_code  id_country  id_quantity  \\\n",
       "0          1  1431426.0  0.0   23000.0     6928         155            1   \n",
       "1          2    31406.0  0.0    2545.0     6930         155            1   \n",
       "2          3      950.0  0.0     300.0     6930         155            1   \n",
       "3          4      950.0  0.0     300.0     6930         155            1   \n",
       "4          5    18251.0  0.0     450.0     6932         155            1   \n",
       "\n",
       "   id_flow  id_year  \n",
       "0        1        1  \n",
       "1        1        1  \n",
       "2        2        1  \n",
       "3        3        1  \n",
       "4        1        1  "
      ]
     },
     "execution_count": 53,
     "metadata": {},
     "output_type": "execute_result"
    }
   ],
   "source": [
    "df_trades_final.head()"
   ]
  },
  {
   "attachments": {},
   "cell_type": "markdown",
   "metadata": {},
   "source": [
    "##### Rearrange the columns"
   ]
  },
  {
   "cell_type": "code",
   "execution_count": 40,
   "metadata": {},
   "outputs": [],
   "source": [
    "df_countries = df_countries[['id_country','alpha-3', 'country', 'region', 'sub-region']]\n",
    "df_product_codes = df_product_codes[['id_code','clean_code', 'Description', 'parent_description']]"
   ]
  },
  {
   "attachments": {},
   "cell_type": "markdown",
   "metadata": {},
   "source": [
    "##### Change columns names to match with the database"
   ]
  },
  {
   "cell_type": "code",
   "execution_count": 51,
   "metadata": {},
   "outputs": [],
   "source": [
    "df_year.rename(columns = {'values':'year'}, inplace = True)\n",
    "df_flow.rename(columns = {'values':'flow'}, inplace = True)\n",
    "df_countries.rename(columns = {'alpha-3':'alpha_3', 'sub-region':'sub_region'}, inplace = True)\n",
    "df_quantity.rename(columns = {'values':'quantity'}, inplace = True)\n",
    "df_product_codes.rename(columns = {'clean_code':'code', 'Description':'description'}, inplace = True)"
   ]
  },
  {
   "attachments": {},
   "cell_type": "markdown",
   "metadata": {},
   "source": [
    "### Load"
   ]
  },
  {
   "cell_type": "code",
   "execution_count": 42,
   "metadata": {},
   "outputs": [],
   "source": [
    "# Load to the target database trades\n",
    "# Values for the trades database\n",
    "HOST = \"localhost\"\n",
    "PORT = 5433\n",
    "DATABASE = \"trades\"\n",
    "USER = \"my_user\"\n",
    "PASSWORD = \"my_password\""
   ]
  },
  {
   "cell_type": "code",
   "execution_count": 43,
   "metadata": {},
   "outputs": [],
   "source": [
    "# Connect to the database\n",
    "engine = create_engine(f'postgresql+psycopg2://{USER}:{PASSWORD}@{HOST}:{PORT}/{DATABASE}')"
   ]
  },
  {
   "cell_type": "code",
   "execution_count": 52,
   "metadata": {},
   "outputs": [],
   "source": [
    "with engine.begin() as conn:\n",
    "    # Load the DataFrames to the tables\n",
    "    df_year.to_sql(name=\"years\", con=conn, index=False, if_exists='append', chunksize=1000)\n",
    "    df_flow.to_sql(name=\"flow\", con=conn, index=False, if_exists='append', chunksize=1000)\n",
    "    df_quantity.to_sql(name=\"quantity\", con=conn, index=False, if_exists='append', chunksize=1000)\n",
    "    df_countries.to_sql(name=\"countries\", con=conn, index=False, if_exists='append', chunksize=1000)\n",
    "    df_product_codes.to_sql(name=\"codes\", con=conn, index=False, if_exists='append', chunksize=1000)\n",
    "    df_trades_final.to_sql(name=\"trades\", con=conn, index=False, if_exists='append', chunksize=1000)"
   ]
  }
 ],
 "metadata": {
  "kernelspec": {
   "display_name": ".venv",
   "language": "python",
   "name": "python3"
  },
  "language_info": {
   "codemirror_mode": {
    "name": "ipython",
    "version": 3
   },
   "file_extension": ".py",
   "mimetype": "text/x-python",
   "name": "python",
   "nbconvert_exporter": "python",
   "pygments_lexer": "ipython3",
   "version": "3.10.2"
  },
  "orig_nbformat": 4
 },
 "nbformat": 4,
 "nbformat_minor": 2
}
