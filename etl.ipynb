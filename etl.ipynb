{
 "cells": [
  {
   "attachments": {},
   "cell_type": "markdown",
   "metadata": {},
   "source": [
    "## Global Commodity Trade ETL"
   ]
  },
  {
   "cell_type": "code",
   "execution_count": 111,
   "metadata": {},
   "outputs": [],
   "source": [
    "import pandas as pd\n",
    "from sqlalchemy import create_engine, text"
   ]
  },
  {
   "attachments": {},
   "cell_type": "markdown",
   "metadata": {},
   "source": [
    "### Extraction"
   ]
  },
  {
   "cell_type": "code",
   "execution_count": 112,
   "metadata": {},
   "outputs": [],
   "source": [
    "# Same values as the docker-compose file\n",
    "HOST = \"localhost\"\n",
    "PORT = 5433\n",
    "DATABASE = \"etl_python\"\n",
    "USER = \"my_user\"\n",
    "PASSWORD = \"my_password\""
   ]
  },
  {
   "cell_type": "code",
   "execution_count": 113,
   "metadata": {},
   "outputs": [],
   "source": [
    "# Connect to the database\n",
    "engine = create_engine(f'postgresql+psycopg2://{USER}:{PASSWORD}@{HOST}:{PORT}/{DATABASE}')"
   ]
  },
  {
   "cell_type": "code",
   "execution_count": 114,
   "metadata": {},
   "outputs": [],
   "source": [
    "# By using a transaction, ensures that the connection is closed automatically \n",
    "# when the block is exited, even if an exception is raised.\n",
    "with engine.begin() as conn:\n",
    "    query = text(\"SELECT * FROM trades\")\n",
    "    # Batch loading the data (Number of rows)\n",
    "    chunk_size = 1000\n",
    "    # Create a pandas generator to read the data in batches\n",
    "    trades_generator = pd.read_sql_query(query, conn, chunksize=chunk_size)\n",
    "    # Concatenate batch DataFrames into a single one\n",
    "    df_trades = pd.concat(trades_generator)"
   ]
  },
  {
   "cell_type": "code",
   "execution_count": 115,
   "metadata": {},
   "outputs": [],
   "source": [
    "# Read the JSON file with the countries data\n",
    "df_countries = pd.read_json('./sources/country_data.json')"
   ]
  },
  {
   "cell_type": "code",
   "execution_count": 116,
   "metadata": {},
   "outputs": [],
   "source": [
    "# Read the CSV file with the products codes\n",
    "df_codes = pd.read_csv('./sources/hs_codes.csv')"
   ]
  },
  {
   "cell_type": "code",
   "execution_count": 117,
   "metadata": {},
   "outputs": [],
   "source": [
    "# All product codes with Level == 2\n",
    "df_parents = df_codes[df_codes['Level']==2].copy()"
   ]
  },
  {
   "attachments": {},
   "cell_type": "markdown",
   "metadata": {},
   "source": [
    "### Transformation"
   ]
  },
  {
   "attachments": {},
   "cell_type": "markdown",
   "metadata": {},
   "source": [
    "##### Clean product codes"
   ]
  },
  {
   "cell_type": "code",
   "execution_count": 118,
   "metadata": {},
   "outputs": [],
   "source": [
    "# Only include the rows with a non-null value in the Code_comm column.\n",
    "df_codes = df_codes[df_codes['Code_comm'].notnull()]"
   ]
  },
  {
   "cell_type": "code",
   "execution_count": 119,
   "metadata": {},
   "outputs": [],
   "source": [
    "def get_clean_code(product_code):\n",
    "    \"\"\"\n",
    "    The first 6 digits of the Code column in df_codes will later \n",
    "    allow us to match with trades in df_trades.\n",
    "\n",
    "    The rows with a 1-digit Code_comm have an 11-digit Code column, \n",
    "    while the rest have a 12-digit Code column.\n",
    "    \n",
    "    Return: tuple(clean_code, parent_description)\n",
    "    \"\"\"\n",
    "    \n",
    "    product_code = str(product_code)\n",
    "\n",
    "    # Define a dictionary to map code length to slice indices\n",
    "    slice_indices = {11: (5, 1), 12: (6, 2)}\n",
    "\n",
    "    # Get the appropriate slice indices based on the length of the code\n",
    "    clean_product_code_slice_index, parent_code_slice_index = slice_indices[len(product_code)]\n",
    "    \n",
    "    # Slice the code to get the clean code and parent code\n",
    "    clean_code = product_code[:clean_product_code_slice_index]\n",
    "    parent_code = product_code[:parent_code_slice_index]\n",
    "\n",
    "    try:\n",
    "        # Only get the Description as a string\n",
    "        parent_description = df_parents[df_parents['Code_comm']==parent_code]['Description'].values[0]\n",
    "    except:\n",
    "        parent_description = None\n",
    "    return (clean_code, parent_description)"
   ]
  },
  {
   "cell_type": "code",
   "execution_count": 120,
   "metadata": {},
   "outputs": [],
   "source": [
    "# Apply to each row the get_clean_code function\n",
    "df_codes[['clean_code','parent_description']] = df_codes.apply(lambda x: get_clean_code(x['Code']), axis=1, result_type='expand')"
   ]
  },
  {
   "cell_type": "code",
   "execution_count": 121,
   "metadata": {},
   "outputs": [],
   "source": [
    "# Only includes the rows with a non-null value in the clean_code column\n",
    "# Then, it selects only three columns\n",
    "df_codes = df_codes[df_codes['clean_code'].notnull()][['clean_code','Description','parent_description']]"
   ]
  },
  {
   "cell_type": "code",
   "execution_count": 122,
   "metadata": {},
   "outputs": [],
   "source": [
    "# Create a unique identifier column\n",
    "df_codes['id_code'] = df_codes.index"
   ]
  },
  {
   "cell_type": "code",
   "execution_count": 123,
   "metadata": {},
   "outputs": [],
   "source": [
    "# Convert clean_code column to int\n",
    "df_codes['clean_code'] = df_codes['clean_code'].astype('int64')"
   ]
  },
  {
   "attachments": {},
   "cell_type": "markdown",
   "metadata": {},
   "source": [
    "##### Clean countries data"
   ]
  },
  {
   "cell_type": "code",
   "execution_count": 124,
   "metadata": {},
   "outputs": [],
   "source": [
    "# The alpha-3 columns in df_countries will later allow us \n",
    "# to match with trades in df_trades.\n",
    "df_countries = df_countries[['alpha_3', 'country', 'region', 'sub_region']]"
   ]
  },
  {
   "cell_type": "code",
   "execution_count": 125,
   "metadata": {},
   "outputs": [],
   "source": [
    "# Only includes the rows with a non-null value in the alpha-3 column\n",
    "df_countries = df_countries[df_countries['alpha-3'].notnull()]"
   ]
  },
  {
   "cell_type": "code",
   "execution_count": 126,
   "metadata": {},
   "outputs": [],
   "source": [
    "# Create a unique identifier column \n",
    "# (+ 1, because the index of df_countries start at 0)\n",
    "df_countries['id_country'] = df_countries.index + 1"
   ]
  },
  {
   "attachments": {},
   "cell_type": "markdown",
   "metadata": {},
   "source": [
    "##### Merge dataframes"
   ]
  },
  {
   "cell_type": "code",
   "execution_count": 127,
   "metadata": {},
   "outputs": [],
   "source": [
    "# Merge the df_trades Dataframe with the df_codes Dataframe\n",
    "df_trades_clean = df_trades.merge(df_codes[['clean_code', 'id_code']],\n",
    "                                  how='left',\n",
    "                                  left_on='comm_code',\n",
    "                                  right_on='clean_code')"
   ]
  },
  {
   "cell_type": "code",
   "execution_count": 128,
   "metadata": {},
   "outputs": [],
   "source": [
    "# Merge the df_trades_clean Dataframe with the df_countries Dataframe\n",
    "df_trades_clean = df_trades_clean.merge(df_countries[['alpha-3', 'id_country']],\n",
    "                                  how='left',\n",
    "                                  left_on='country_code',\n",
    "                                  right_on='alpha-3')"
   ]
  },
  {
   "cell_type": "code",
   "execution_count": 129,
   "metadata": {},
   "outputs": [],
   "source": [
    "def create_dimension(data, id_name):\n",
    "    \"\"\"\n",
    "    Creates a new dataframe with the given id_name\n",
    "    \n",
    "    Keyword arguments:\n",
    "    data -- A pandas Series\n",
    "    id_name -- string\n",
    "\n",
    "    Return: A pandas DataFrame\n",
    "    \"\"\"\n",
    "    keys_list = []\n",
    "    value = 1\n",
    "    \n",
    "    for _ in data:\n",
    "        keys_list.append(value)\n",
    "        value += 1\n",
    "    \n",
    "    return pd.DataFrame({id_name:keys_list, 'values': data})"
   ]
  },
  {
   "cell_type": "code",
   "execution_count": 130,
   "metadata": {},
   "outputs": [],
   "source": [
    "# Create the dimensions\n",
    "df_quantity = create_dimension(df_trades_clean['quantity_name'].unique(), 'id_quantity')\n",
    "df_flow = create_dimension(df_trades_clean['flow'].unique(), 'id_flow')\n",
    "df_year = create_dimension(df_trades_clean['year'].unique(), 'id_year')"
   ]
  },
  {
   "cell_type": "code",
   "execution_count": 133,
   "metadata": {},
   "outputs": [],
   "source": [
    "# Merges to populate df_trades_clean with the dimensions ids\n",
    "df_trades_clean = df_trades_clean.merge(df_quantity,\n",
    "                                  how='left',\n",
    "                                  left_on='quantity_name',\n",
    "                                  right_on='values')\n",
    "df_trades_clean = df_trades_clean.merge(df_flow,\n",
    "                                  how='left',\n",
    "                                  left_on='flow',\n",
    "                                  right_on='values')\n",
    "df_trades_clean = df_trades_clean.merge(df_year,\n",
    "                                  how='left',\n",
    "                                  left_on='year',\n",
    "                                  right_on='values')"
   ]
  },
  {
   "cell_type": "code",
   "execution_count": 134,
   "metadata": {},
   "outputs": [],
   "source": [
    "# Create a unique identifier column \n",
    "# (+ 1, because the index of df_trades_clean start at 0)\n",
    "df_trades_clean['id_trades'] = df_trades_clean.index + 1"
   ]
  },
  {
   "cell_type": "code",
   "execution_count": 136,
   "metadata": {},
   "outputs": [],
   "source": [
    "# Create df_trades_final to be our facts table with:\n",
    "# An unique identifier, metrics(trade_usd, kg, quantity),\n",
    "# and ids to relate them with the dimensions\n",
    "\n",
    "df_trades_final = df_trades_clean[['id_trades', 'trade_usd', 'kg', 'quantity', 'id_code',\n",
    "                                'id_country', 'id_quantity', 'id_flow', 'id_year']].copy()"
   ]
  },
  {
   "attachments": {},
   "cell_type": "markdown",
   "metadata": {},
   "source": [
    "##### Rearrange the columns"
   ]
  },
  {
   "cell_type": "code",
   "execution_count": 137,
   "metadata": {},
   "outputs": [],
   "source": [
    "df_countries = df_countries[['id_country','alpha-3', 'country', 'region', 'sub-region']]\n",
    "df_codes = df_codes[['id_code','clean_code', 'Description', 'parent_description']]"
   ]
  },
  {
   "attachments": {},
   "cell_type": "markdown",
   "metadata": {},
   "source": [
    "##### Change columns names to match with the database"
   ]
  },
  {
   "cell_type": "code",
   "execution_count": 159,
   "metadata": {},
   "outputs": [],
   "source": [
    "df_year.rename(columns = {'values':'year'}, inplace = True)\n",
    "df_quantity.rename(columns = {'values':'quantity'}, inplace = True)\n",
    "df_codes.rename(columns = {'clean_code':'code', 'Description':'description'}, inplace = True)"
   ]
  },
  {
   "attachments": {},
   "cell_type": "markdown",
   "metadata": {},
   "source": [
    "### Load"
   ]
  },
  {
   "cell_type": "code",
   "execution_count": 162,
   "metadata": {},
   "outputs": [],
   "source": [
    "# Values for the trades database\n",
    "HOST = \"localhost\"\n",
    "PORT = 5433\n",
    "DATABASE = \"trades\"\n",
    "USER = \"my_user\"\n",
    "PASSWORD = \"my_password\""
   ]
  },
  {
   "cell_type": "code",
   "execution_count": 163,
   "metadata": {},
   "outputs": [],
   "source": [
    "# Connect to the database\n",
    "engine = create_engine(f'postgresql+psycopg2://{USER}:{PASSWORD}@{HOST}:{PORT}/{DATABASE}')"
   ]
  },
  {
   "cell_type": "code",
   "execution_count": 170,
   "metadata": {},
   "outputs": [],
   "source": [
    "with engine.begin() as conn:\n",
    "    # Load the DataFrames to the tables\n",
    "    df_year.to_sql(name=\"years\", con=conn, index=False, if_exists='append', chunksize=1000)\n",
    "    df_flow.to_sql(name=\"flow\", con=conn, index=False, if_exists='append', chunksize=1000)\n",
    "    df_quantity.to_sql(name=\"quantity\", con=conn, index=False, if_exists='append', chunksize=1000)\n",
    "    df_countries.to_sql(name=\"countries\", con=conn, index=False, if_exists='append', chunksize=1000)\n",
    "    df_codes.to_sql(name=\"codes\", con=conn, index=False, if_exists='append', chunksize=1000)\n",
    "    df_trades_final.to_sql(name=\"trades\", con=conn, index=False, if_exists='append', chunksize=1000)"
   ]
  },
  {
   "cell_type": "code",
   "execution_count": null,
   "metadata": {},
   "outputs": [],
   "source": [
    "df_trades_final.head()"
   ]
  }
 ],
 "metadata": {
  "kernelspec": {
   "display_name": ".venv",
   "language": "python",
   "name": "python3"
  },
  "language_info": {
   "codemirror_mode": {
    "name": "ipython",
    "version": 3
   },
   "file_extension": ".py",
   "mimetype": "text/x-python",
   "name": "python",
   "nbconvert_exporter": "python",
   "pygments_lexer": "ipython3",
   "version": "3.10.2"
  },
  "orig_nbformat": 4
 },
 "nbformat": 4,
 "nbformat_minor": 2
}
